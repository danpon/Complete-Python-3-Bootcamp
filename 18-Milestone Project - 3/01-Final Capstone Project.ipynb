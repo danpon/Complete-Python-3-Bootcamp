{
 "cells": [
  {
   "cell_type": "markdown",
   "metadata": {
    "collapsed": true
   },
   "source": [
    "# Final Capstone Projects\n",
    "\n",
    "Please refer to the [**Final Capstone Projects**](http://nbviewer.jupyter.org/github/jmportilla/Complete-Python-Bootcamp/tree/master/Final%20Capstone%20Projects/) folder to get all the info on final capstone project ideas and possible solutions!"
   ]
  },
  {
   "cell_type": "markdown",
   "metadata": {},
   "source": [
    "## Prime Factorization ##"
   ]
  },
  {
   "cell_type": "code",
   "execution_count": 55,
   "metadata": {},
   "outputs": [
    {
     "name": "stdout",
     "output_type": "stream",
     "text": [
      "Please input an integer :2\n",
      "2\n"
     ]
    }
   ],
   "source": [
    "N=''\n",
    "while N == '':\n",
    "    try:\n",
    "        N=int(input('Please input an integer :'))\n",
    "    except Exception as e:\n",
    "        print(\"Wrong format!\")\n",
    "print(N)"
   ]
  },
  {
   "cell_type": "code",
   "execution_count": 56,
   "metadata": {},
   "outputs": [
    {
     "name": "stdout",
     "output_type": "stream",
     "text": [
      "2 = 2^1 \n"
     ]
    }
   ],
   "source": [
    "p=2\n",
    "primes = {}\n",
    "x=N\n",
    "while x >= p*p:\n",
    "    if x %p == 0:\n",
    "        if p in primes:\n",
    "            power = primes.get(p) + 1\n",
    "        else:\n",
    "            power=1\n",
    "        primes[int(p)]=power    \n",
    "        x = x / p\n",
    "    else:\n",
    "        p=p+1\n",
    "if x in primes:\n",
    "    power = primes.get(x) + 1\n",
    "else:\n",
    "    power=1\n",
    "primes[int(x)]=power \n",
    "\n",
    "\n",
    "res= f'{N} = '\n",
    "for k in  primes.keys():\n",
    "    v= primes[k]\n",
    "    res+=f'{k}^{v} * '\n",
    "res=res[0:len(res)-2]\n",
    "print(res)"
   ]
  },
  {
   "cell_type": "code",
   "execution_count": null,
   "metadata": {},
   "outputs": [],
   "source": []
  }
 ],
 "metadata": {
  "kernelspec": {
   "display_name": "Python 3",
   "language": "python",
   "name": "python3"
  },
  "language_info": {
   "codemirror_mode": {
    "name": "ipython",
    "version": 3
   },
   "file_extension": ".py",
   "mimetype": "text/x-python",
   "name": "python",
   "nbconvert_exporter": "python",
   "pygments_lexer": "ipython3",
   "version": "3.7.7"
  }
 },
 "nbformat": 4,
 "nbformat_minor": 1
}
