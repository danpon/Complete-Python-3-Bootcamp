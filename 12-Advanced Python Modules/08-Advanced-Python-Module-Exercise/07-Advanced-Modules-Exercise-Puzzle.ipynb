{
 "cells": [
  {
   "cell_type": "markdown",
   "metadata": {},
   "source": [
    "___\n",
    "\n",
    "<a href='https://www.udemy.com/user/joseportilla/'><img src='../../Pierian_Data_Logo.png'/></a>\n",
    "___\n",
    "<center><em>Content Copyright by Pierian Data</em></center>"
   ]
  },
  {
   "cell_type": "markdown",
   "metadata": {},
   "source": [
    "# Advanced Modules Exercise Puzzle\n",
    "\n",
    "It's time to test your new skills, this puzzle project will combine multiple skills sets, including unzipping files with Python, using os module to automatically search through lots of files.\n",
    "\n",
    "## Your Goal\n",
    "\n",
    "This is a puzzle, so we don't want to give you too much guidance and instead have you figure out things on your own.\n",
    "\n",
    "There is a .zip file called 'unzip_me_for_instructions.zip', unzip it, open the .txt file with Python, read the instructions and see if you can figure out what you need to do!\n",
    "\n",
    "**If you get stuck or don't know where to start, here is a [guide/hints](https://docs.google.com/document/d/1JxydUr4n4fSR0EwwuwT-aHia-yPK6r-oTBuVT2sqheo/edit?usp=sharing)**"
   ]
  },
  {
   "cell_type": "code",
   "execution_count": 4,
   "metadata": {},
   "outputs": [],
   "source": [
    "import shutil\n",
    "shutil.unpack_archive('unzip_me_for_instructions.zip')"
   ]
  },
  {
   "cell_type": "code",
   "execution_count": 7,
   "metadata": {},
   "outputs": [
    {
     "name": "stdout",
     "output_type": "stream",
     "text": [
      "extracted_content\\Instructions.txt\n",
      "extracted_content\\Five\\AEITMYIRQLP.txt\n",
      "extracted_content\\Five\\APJKSRITGGX.txt\n",
      "extracted_content\\Five\\AQKATDFGXTS.txt\n",
      "extracted_content\\Five\\ARLKFCWIAJE.txt\n",
      "extracted_content\\Five\\AXJGVPVEFAS.txt\n",
      "extracted_content\\Five\\BNUQEHCFRTG.txt\n",
      "extracted_content\\Five\\BSKJDRNEZQM.txt\n",
      "extracted_content\\Five\\BTYWAHLHKBM.txt\n",
      "extracted_content\\Five\\BUGKBZWRRVI.txt\n",
      "extracted_content\\Five\\BVBURZZCAPR.txt\n",
      "extracted_content\\Five\\CAHBEVSVDDN.txt\n",
      "extracted_content\\Five\\COMGMZBJAYE.txt\n",
      "extracted_content\\Five\\CRFSDGYFSHA.txt\n",
      "extracted_content\\Five\\CSCLFZCDYYC.txt\n",
      "extracted_content\\Five\\CXBVCTRBBIE.txt\n",
      "extracted_content\\Five\\DDLASODUVPX.txt\n",
      "extracted_content\\Five\\DHZBAAYEADM.txt\n",
      "extracted_content\\Five\\DQPZQLBCJYP.txt\n",
      "extracted_content\\Five\\DYOPIIVMZOO.txt\n",
      "extracted_content\\Five\\DZUWWXYIAEL.txt\n",
      "extracted_content\\Five\\EAAOEPSAWMQ.txt\n",
      "extracted_content\\Five\\EIPWXMQZJKU.txt\n",
      "extracted_content\\Five\\ESIZWBHMGDP.txt\n",
      "extracted_content\\Five\\ETCUEXWNBCF.txt\n",
      "extracted_content\\Five\\EYTCGIOYWIW.txt\n",
      "extracted_content\\Four\\ECIOBYCDVFI.txt\n",
      "extracted_content\\Four\\EMTGPSXQEJX.txt\n",
      "extracted_content\\Four\\EPRNUHRSESC.txt\n",
      "extracted_content\\Four\\ESDIZXHYCVY.txt\n",
      "extracted_content\\Four\\EXVQSVBQQQH.txt\n",
      "extracted_content\\Four\\QCTCKDIBBVG.txt\n",
      "extracted_content\\Four\\QCWCFLKNZMN.txt\n",
      "extracted_content\\Four\\QDDETWBHJYC.txt\n",
      "extracted_content\\Four\\QTDYYIFPHAU.txt\n",
      "extracted_content\\Four\\QVNJULGXNUM.txt\n",
      "extracted_content\\Four\\REAXWSOIQDY.txt\n",
      "extracted_content\\Four\\ROICPTWKXDX.txt\n",
      "extracted_content\\Four\\RSXOTNGKBML.txt\n",
      "extracted_content\\Four\\RXDARIDGKBF.txt\n",
      "extracted_content\\Four\\RYNXFYXMKHG.txt\n",
      "extracted_content\\Four\\TAKNAVDMZKV.txt\n",
      "extracted_content\\Four\\THPNEGKTJWI.txt\n",
      "extracted_content\\Four\\TJFMLJODVAD.txt\n",
      "extracted_content\\Four\\TKCZSFQNJTX.txt\n",
      "extracted_content\\Four\\TWUOYFCCYBQ.txt\n",
      "extracted_content\\Four\\WFSKPTXPFCH.txt\n",
      "extracted_content\\Four\\WHTOHQUWXIN.txt\n",
      "extracted_content\\Four\\WNJISWPEBRS.txt\n",
      "extracted_content\\Four\\WXDJDOGZEHN.txt\n",
      "extracted_content\\Four\\WYDLGSGGXKV.txt\n",
      "extracted_content\\One\\HDOHZHFSTTK.txt\n",
      "extracted_content\\One\\HFUTPPAXDIS.txt\n",
      "extracted_content\\One\\HMNZTLIFGPD.txt\n",
      "extracted_content\\One\\HRQFTHKVJTL.txt\n",
      "extracted_content\\One\\HVUTZEVMSBW.txt\n",
      "extracted_content\\One\\JDLRVFCXYLU.txt\n",
      "extracted_content\\One\\JEHBLZPUPSP.txt\n",
      "extracted_content\\One\\JLTXKIGCWDL.txt\n",
      "extracted_content\\One\\JQUOBKFUACN.txt\n",
      "extracted_content\\One\\JTHSNBNPQSE.txt\n",
      "extracted_content\\One\\KCXGNQCZBLO.txt\n",
      "extracted_content\\One\\KFIUZFERLET.txt\n",
      "extracted_content\\One\\KMMLGJOWLGI.txt\n",
      "extracted_content\\One\\KNBSKDREHQU.txt\n",
      "extracted_content\\One\\KTXDHIOKAUI.txt\n",
      "extracted_content\\One\\LDGOCUQJNNS.txt\n",
      "extracted_content\\One\\LFEATJAAYDC.txt\n",
      "extracted_content\\One\\LHODFIKVTQA.txt\n",
      "extracted_content\\One\\LIFDHOFKWOI.txt\n",
      "extracted_content\\One\\LPNDVDXPZIG.txt\n",
      "extracted_content\\One\\PDJMSMNKIRM.txt\n",
      "extracted_content\\One\\PHWAVPEKAER.txt\n",
      "extracted_content\\One\\PLYCGPVEAWO.txt\n",
      "extracted_content\\One\\PQNVCVJINAR.txt\n",
      "extracted_content\\One\\PTOBBCJYURJ.txt\n",
      "extracted_content\\Three\\VAQIJTDOFUJ.txt\n",
      "extracted_content\\Three\\VCFJCGJFBIH.txt\n",
      "extracted_content\\Three\\VSXFSTABZDY.txt\n",
      "extracted_content\\Three\\VVHFVZUNLOO.txt\n",
      "extracted_content\\Three\\VVKGWLRMHLU.txt\n",
      "extracted_content\\Three\\XAJMCPEWFNI.txt\n",
      "extracted_content\\Three\\XFHJOTNPEJG.txt\n",
      "extracted_content\\Three\\XHZPVUQTXIO.txt\n",
      "extracted_content\\Three\\XJCWENFFGHB.txt\n",
      "extracted_content\\Three\\XVMPVSVYKFR.txt\n",
      "extracted_content\\Three\\YCESZHJDBXH.txt\n",
      "extracted_content\\Three\\YDQFMWXOUMW.txt\n",
      "extracted_content\\Three\\YQBIUHSUEVW.txt\n",
      "extracted_content\\Three\\YQRNCMNFFHW.txt\n",
      "extracted_content\\Three\\YYIZGBTQHZP.txt\n",
      "extracted_content\\Three\\ZEZKKRBIZEB.txt\n",
      "extracted_content\\Three\\ZKQJXAYKPVD.txt\n",
      "extracted_content\\Three\\ZOWVXWPOGWP.txt\n",
      "extracted_content\\Three\\ZXEZRQXZNPG.txt\n",
      "extracted_content\\Three\\ZXIBJMPROKW.txt\n",
      "extracted_content\\Two\\GKQBQRCTNNK.txt\n",
      "extracted_content\\Two\\GMMQQUBMJNR.txt\n",
      "extracted_content\\Two\\GQTJJORZBXY.txt\n",
      "extracted_content\\Two\\GTOTCIWMDBY.txt\n",
      "extracted_content\\Two\\GXYSEPAFRTP.txt\n",
      "extracted_content\\Two\\HARDNJGDRBC.txt\n",
      "extracted_content\\Two\\HEORIXOTANT.txt\n",
      "extracted_content\\Two\\HMUTDOVNYTV.txt\n",
      "extracted_content\\Two\\HMZXPBOPRAE.txt\n",
      "extracted_content\\Two\\HTOHSTYXTCO.txt\n",
      "extracted_content\\Two\\LCJZYDHBFRM.txt\n",
      "extracted_content\\Two\\LSQSTGPIGIY.txt\n",
      "extracted_content\\Two\\LULTNYAQEJG.txt\n",
      "extracted_content\\Two\\LVMBINRBJXL.txt\n",
      "extracted_content\\Two\\LYZEQCVYNEZ.txt\n",
      "extracted_content\\Two\\OHZOUOSFJQC.txt\n",
      "extracted_content\\Two\\OIHMLGMWTHL.txt\n",
      "extracted_content\\Two\\OKWFOOYTXFU.txt\n",
      "extracted_content\\Two\\OMWIMVRCMYM.txt\n",
      "extracted_content\\Two\\OYMAGXAGWHJ.txt\n",
      "extracted_content\\Two\\SIKFPPLCJDN.txt\n",
      "extracted_content\\Two\\SJMJLDGPBSJ.txt\n",
      "extracted_content\\Two\\SOFUJYXTIMK.txt\n",
      "extracted_content\\Two\\SPDZYGDHEWO.txt\n",
      "extracted_content\\Two\\SWOFXREEHWA.txt\n"
     ]
    }
   ],
   "source": [
    "import os\n",
    "for folder, subfolders, files in os.walk(\"extracted_content\"):\n",
    "    for file in files:\n",
    "        print(f\"{folder}\\\\{file}\")"
   ]
  },
  {
   "cell_type": "code",
   "execution_count": 13,
   "metadata": {},
   "outputs": [
    {
     "name": "stdout",
     "output_type": "stream",
     "text": [
      "Good work on unzipping the file!\n",
      "\n",
      "You should now see 5 folders, each with a lot of random .txt files.\n",
      "\n",
      "Within one of these text files is a telephone number formated ###-###-#### \n",
      "\n",
      "Use the Python os module and regular expressions to iterate through each file, open it, and search for a telephone number.\n",
      "\n",
      "Good luck!\n"
     ]
    }
   ],
   "source": [
    "file = open(\"extracted_content/Instructions.txt\",\"r\")\n",
    "for line in file:\n",
    "    print(line)\n",
    "file.close()"
   ]
  },
  {
   "cell_type": "code",
   "execution_count": 25,
   "metadata": {},
   "outputs": [
    {
     "name": "stdout",
     "output_type": "stream",
     "text": [
      "Good work on unzipping the file!\n",
      "You should now see 5 folders, each with a lot of random .txt files.\n",
      "Within one of these text files is a telephone number formated ###-###-#### \n",
      "Use the Python os module and regular expressions to iterate through each file, open it, and search for a telephone number.\n",
      "Good luck!\n"
     ]
    }
   ],
   "source": [
    "with open(\"extracted_content/Instructions.txt\",\"r\") as f:\n",
    "    print(f.read())"
   ]
  },
  {
   "cell_type": "code",
   "execution_count": 20,
   "metadata": {},
   "outputs": [
    {
     "name": "stdout",
     "output_type": "stream",
     "text": [
      "719-266-2837\n"
     ]
    }
   ],
   "source": [
    "import os\n",
    "import re\n",
    "\n",
    "for folder, subfolders, files in os.walk(\"extracted_content\"):\n",
    "    for file in files:\n",
    "        reader = open(folder+'/'+file,'r')\n",
    "        for line in reader:\n",
    "            match=re.findall(r'\\d{3}-\\d{3}-\\d{4}',line)\n",
    "            if len(match)>0:\n",
    "                print(match[0])\n",
    "        reader.close()"
   ]
  },
  {
   "cell_type": "code",
   "execution_count": 26,
   "metadata": {},
   "outputs": [
    {
     "name": "stdout",
     "output_type": "stream",
     "text": [
      "719-266-2837\n"
     ]
    }
   ],
   "source": [
    "import os\n",
    "import re\n",
    "\n",
    "for folder, subfolders, filenames in os.walk(\"extracted_content\"):\n",
    "    for filename in filenames:\n",
    "        with open(folder+'/'+filename,'r') as f:\n",
    "            text=f.read()\n",
    "            match=re.findall(r'\\d{3}-\\d{3}-\\d{4}',text)\n",
    "            if len(match)>0:\n",
    "                print(match[0])"
   ]
  },
  {
   "cell_type": "code",
   "execution_count": null,
   "metadata": {},
   "outputs": [],
   "source": []
  }
 ],
 "metadata": {
  "anaconda-cloud": {},
  "kernelspec": {
   "display_name": "Python 3",
   "language": "python",
   "name": "python3"
  },
  "language_info": {
   "codemirror_mode": {
    "name": "ipython",
    "version": 3
   },
   "file_extension": ".py",
   "mimetype": "text/x-python",
   "name": "python",
   "nbconvert_exporter": "python",
   "pygments_lexer": "ipython3",
   "version": "3.7.7"
  }
 },
 "nbformat": 4,
 "nbformat_minor": 2
}
